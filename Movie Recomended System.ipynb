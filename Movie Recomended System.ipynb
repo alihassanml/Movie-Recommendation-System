{
 "cells": [
  {
   "cell_type": "markdown",
   "id": "7b304705-7b7c-42f3-8498-c2d5c03749dc",
   "metadata": {
    "id": "8924ff2a-cd03-4455-bd47-a82110cc0370"
   },
   "source": [
    "# Movie Recommendation System\n",
    "\n",
    "This project implements a movie recommendation system using text-based similarity measures. It processes a dataset of movies, computes similarity scores using TF-IDF and cosine similarity, and provides recommendations based on movie titles.\n",
    "\n",
    "## Features\n",
    "\n",
    "- **Data Processing**: Handles large datasets and preprocesses text data.\n",
    "- **TF-IDF Vectorization**: Converts text data into numerical features.\n",
    "- **Cosine Similarity**: Computes similarity scores between movies.\n",
    "- **Recommendation System**: Provides movie recommendations based on similarity scores.\n",
    "- **Pickling**: Saves and loads models and similarity matrices for efficient use.\n"
   ]
  },
  {
   "cell_type": "markdown",
   "id": "5024fa81-c240-49b1-8116-299fb74f3670",
   "metadata": {},
   "source": [
    "### Library"
   ]
  },
  {
   "cell_type": "code",
   "execution_count": 19,
   "id": "763313e8-1da4-4b7c-afc0-1fc43ed1c798",
   "metadata": {},
   "outputs": [],
   "source": [
    "import ast\n",
    "import nltk\n",
    "import pickle\n",
    "import pandas as pd\n",
    "import numpy as np\n",
    "import warnings\n",
    "import seaborn as sns\n",
    "from nltk.corpus import stopwords\n",
    "import matplotlib.pyplot as plt\n",
    "from nltk.tokenize import word_tokenize\n",
    "from nltk.stem.porter import PorterStemmer\n",
    "from sklearn.metrics.pairwise import cosine_similarity\n",
    "from sklearn.feature_extraction.text import TfidfVectorizer\n",
    "warnings.filterwarnings('ignore')"
   ]
  },
  {
   "cell_type": "code",
   "execution_count": 6,
   "id": "16dd6a52-ef10-492f-8f10-42deb3ea94b4",
   "metadata": {},
   "outputs": [],
   "source": [
    "### Nltk download"
   ]
  },
  {
   "cell_type": "code",
   "execution_count": 2,
   "id": "S84pkJUuuQG1",
   "metadata": {
    "id": "S84pkJUuuQG1"
   },
   "outputs": [
    {
     "name": "stderr",
     "output_type": "stream",
     "text": [
      "[nltk_data] Downloading package stopwords to C:\\Users\\Ali\n",
      "[nltk_data]     Hassan\\AppData\\Roaming\\nltk_data...\n",
      "[nltk_data]   Package stopwords is already up-to-date!\n",
      "[nltk_data] Downloading package punkt to C:\\Users\\Ali\n",
      "[nltk_data]     Hassan\\AppData\\Roaming\\nltk_data...\n",
      "[nltk_data]   Package punkt is already up-to-date!\n"
     ]
    }
   ],
   "source": [
    "nltk.download('stopwords')\n",
    "nltk.download('punkt')\n",
    "stopwords = stopwords.words('english')"
   ]
  },
  {
   "cell_type": "code",
   "execution_count": 8,
   "id": "76b886ac-cfc6-4815-8099-d5a16add3077",
   "metadata": {},
   "outputs": [],
   "source": [
    "### DATA COLLECTION"
   ]
  },
  {
   "cell_type": "code",
   "execution_count": 3,
   "id": "9b64253a-3004-4626-ba5b-8f97af40b0e6",
   "metadata": {
    "id": "9b64253a-3004-4626-ba5b-8f97af40b0e6"
   },
   "outputs": [],
   "source": [
    "df = pd.read_csv('movies_metadata.csv')"
   ]
  },
  {
   "cell_type": "code",
   "execution_count": 4,
   "id": "0cce267a-bae2-454c-bd4a-be21fd4242c8",
   "metadata": {
    "colab": {
     "base_uri": "https://localhost:8080/",
     "height": 248
    },
    "id": "0cce267a-bae2-454c-bd4a-be21fd4242c8",
    "outputId": "ba790f80-8b5f-4db3-d2e0-83fac0a78069"
   },
   "outputs": [
    {
     "data": {
      "text/html": [
       "<div>\n",
       "<style scoped>\n",
       "    .dataframe tbody tr th:only-of-type {\n",
       "        vertical-align: middle;\n",
       "    }\n",
       "\n",
       "    .dataframe tbody tr th {\n",
       "        vertical-align: top;\n",
       "    }\n",
       "\n",
       "    .dataframe thead th {\n",
       "        text-align: right;\n",
       "    }\n",
       "</style>\n",
       "<table border=\"1\" class=\"dataframe\">\n",
       "  <thead>\n",
       "    <tr style=\"text-align: right;\">\n",
       "      <th></th>\n",
       "      <th>adult</th>\n",
       "      <th>belongs_to_collection</th>\n",
       "      <th>budget</th>\n",
       "      <th>genres</th>\n",
       "      <th>homepage</th>\n",
       "      <th>id</th>\n",
       "      <th>imdb_id</th>\n",
       "      <th>original_language</th>\n",
       "      <th>original_title</th>\n",
       "      <th>overview</th>\n",
       "      <th>...</th>\n",
       "      <th>release_date</th>\n",
       "      <th>revenue</th>\n",
       "      <th>runtime</th>\n",
       "      <th>spoken_languages</th>\n",
       "      <th>status</th>\n",
       "      <th>tagline</th>\n",
       "      <th>title</th>\n",
       "      <th>video</th>\n",
       "      <th>vote_average</th>\n",
       "      <th>vote_count</th>\n",
       "    </tr>\n",
       "  </thead>\n",
       "  <tbody>\n",
       "    <tr>\n",
       "      <th>0</th>\n",
       "      <td>False</td>\n",
       "      <td>{'id': 10194, 'name': 'Toy Story Collection', ...</td>\n",
       "      <td>30000000</td>\n",
       "      <td>[{'id': 16, 'name': 'Animation'}, {'id': 35, '...</td>\n",
       "      <td>http://toystory.disney.com/toy-story</td>\n",
       "      <td>862</td>\n",
       "      <td>tt0114709</td>\n",
       "      <td>en</td>\n",
       "      <td>Toy Story</td>\n",
       "      <td>Led by Woody, Andy's toys live happily in his ...</td>\n",
       "      <td>...</td>\n",
       "      <td>1995-10-30</td>\n",
       "      <td>373554033.0</td>\n",
       "      <td>81.0</td>\n",
       "      <td>[{'iso_639_1': 'en', 'name': 'English'}]</td>\n",
       "      <td>Released</td>\n",
       "      <td>NaN</td>\n",
       "      <td>Toy Story</td>\n",
       "      <td>False</td>\n",
       "      <td>7.7</td>\n",
       "      <td>5415.0</td>\n",
       "    </tr>\n",
       "    <tr>\n",
       "      <th>1</th>\n",
       "      <td>False</td>\n",
       "      <td>NaN</td>\n",
       "      <td>65000000</td>\n",
       "      <td>[{'id': 12, 'name': 'Adventure'}, {'id': 14, '...</td>\n",
       "      <td>NaN</td>\n",
       "      <td>8844</td>\n",
       "      <td>tt0113497</td>\n",
       "      <td>en</td>\n",
       "      <td>Jumanji</td>\n",
       "      <td>When siblings Judy and Peter discover an encha...</td>\n",
       "      <td>...</td>\n",
       "      <td>1995-12-15</td>\n",
       "      <td>262797249.0</td>\n",
       "      <td>104.0</td>\n",
       "      <td>[{'iso_639_1': 'en', 'name': 'English'}, {'iso...</td>\n",
       "      <td>Released</td>\n",
       "      <td>Roll the dice and unleash the excitement!</td>\n",
       "      <td>Jumanji</td>\n",
       "      <td>False</td>\n",
       "      <td>6.9</td>\n",
       "      <td>2413.0</td>\n",
       "    </tr>\n",
       "    <tr>\n",
       "      <th>2</th>\n",
       "      <td>False</td>\n",
       "      <td>{'id': 119050, 'name': 'Grumpy Old Men Collect...</td>\n",
       "      <td>0</td>\n",
       "      <td>[{'id': 10749, 'name': 'Romance'}, {'id': 35, ...</td>\n",
       "      <td>NaN</td>\n",
       "      <td>15602</td>\n",
       "      <td>tt0113228</td>\n",
       "      <td>en</td>\n",
       "      <td>Grumpier Old Men</td>\n",
       "      <td>A family wedding reignites the ancient feud be...</td>\n",
       "      <td>...</td>\n",
       "      <td>1995-12-22</td>\n",
       "      <td>0.0</td>\n",
       "      <td>101.0</td>\n",
       "      <td>[{'iso_639_1': 'en', 'name': 'English'}]</td>\n",
       "      <td>Released</td>\n",
       "      <td>Still Yelling. Still Fighting. Still Ready for...</td>\n",
       "      <td>Grumpier Old Men</td>\n",
       "      <td>False</td>\n",
       "      <td>6.5</td>\n",
       "      <td>92.0</td>\n",
       "    </tr>\n",
       "    <tr>\n",
       "      <th>3</th>\n",
       "      <td>False</td>\n",
       "      <td>NaN</td>\n",
       "      <td>16000000</td>\n",
       "      <td>[{'id': 35, 'name': 'Comedy'}, {'id': 18, 'nam...</td>\n",
       "      <td>NaN</td>\n",
       "      <td>31357</td>\n",
       "      <td>tt0114885</td>\n",
       "      <td>en</td>\n",
       "      <td>Waiting to Exhale</td>\n",
       "      <td>Cheated on, mistreated and stepped on, the wom...</td>\n",
       "      <td>...</td>\n",
       "      <td>1995-12-22</td>\n",
       "      <td>81452156.0</td>\n",
       "      <td>127.0</td>\n",
       "      <td>[{'iso_639_1': 'en', 'name': 'English'}]</td>\n",
       "      <td>Released</td>\n",
       "      <td>Friends are the people who let you be yourself...</td>\n",
       "      <td>Waiting to Exhale</td>\n",
       "      <td>False</td>\n",
       "      <td>6.1</td>\n",
       "      <td>34.0</td>\n",
       "    </tr>\n",
       "    <tr>\n",
       "      <th>4</th>\n",
       "      <td>False</td>\n",
       "      <td>{'id': 96871, 'name': 'Father of the Bride Col...</td>\n",
       "      <td>0</td>\n",
       "      <td>[{'id': 35, 'name': 'Comedy'}]</td>\n",
       "      <td>NaN</td>\n",
       "      <td>11862</td>\n",
       "      <td>tt0113041</td>\n",
       "      <td>en</td>\n",
       "      <td>Father of the Bride Part II</td>\n",
       "      <td>Just when George Banks has recovered from his ...</td>\n",
       "      <td>...</td>\n",
       "      <td>1995-02-10</td>\n",
       "      <td>76578911.0</td>\n",
       "      <td>106.0</td>\n",
       "      <td>[{'iso_639_1': 'en', 'name': 'English'}]</td>\n",
       "      <td>Released</td>\n",
       "      <td>Just When His World Is Back To Normal... He's ...</td>\n",
       "      <td>Father of the Bride Part II</td>\n",
       "      <td>False</td>\n",
       "      <td>5.7</td>\n",
       "      <td>173.0</td>\n",
       "    </tr>\n",
       "  </tbody>\n",
       "</table>\n",
       "<p>5 rows × 24 columns</p>\n",
       "</div>"
      ],
      "text/plain": [
       "   adult                              belongs_to_collection    budget  \\\n",
       "0  False  {'id': 10194, 'name': 'Toy Story Collection', ...  30000000   \n",
       "1  False                                                NaN  65000000   \n",
       "2  False  {'id': 119050, 'name': 'Grumpy Old Men Collect...         0   \n",
       "3  False                                                NaN  16000000   \n",
       "4  False  {'id': 96871, 'name': 'Father of the Bride Col...         0   \n",
       "\n",
       "                                              genres  \\\n",
       "0  [{'id': 16, 'name': 'Animation'}, {'id': 35, '...   \n",
       "1  [{'id': 12, 'name': 'Adventure'}, {'id': 14, '...   \n",
       "2  [{'id': 10749, 'name': 'Romance'}, {'id': 35, ...   \n",
       "3  [{'id': 35, 'name': 'Comedy'}, {'id': 18, 'nam...   \n",
       "4                     [{'id': 35, 'name': 'Comedy'}]   \n",
       "\n",
       "                               homepage     id    imdb_id original_language  \\\n",
       "0  http://toystory.disney.com/toy-story    862  tt0114709                en   \n",
       "1                                   NaN   8844  tt0113497                en   \n",
       "2                                   NaN  15602  tt0113228                en   \n",
       "3                                   NaN  31357  tt0114885                en   \n",
       "4                                   NaN  11862  tt0113041                en   \n",
       "\n",
       "                original_title  \\\n",
       "0                    Toy Story   \n",
       "1                      Jumanji   \n",
       "2             Grumpier Old Men   \n",
       "3            Waiting to Exhale   \n",
       "4  Father of the Bride Part II   \n",
       "\n",
       "                                            overview  ... release_date  \\\n",
       "0  Led by Woody, Andy's toys live happily in his ...  ...   1995-10-30   \n",
       "1  When siblings Judy and Peter discover an encha...  ...   1995-12-15   \n",
       "2  A family wedding reignites the ancient feud be...  ...   1995-12-22   \n",
       "3  Cheated on, mistreated and stepped on, the wom...  ...   1995-12-22   \n",
       "4  Just when George Banks has recovered from his ...  ...   1995-02-10   \n",
       "\n",
       "       revenue runtime                                   spoken_languages  \\\n",
       "0  373554033.0    81.0           [{'iso_639_1': 'en', 'name': 'English'}]   \n",
       "1  262797249.0   104.0  [{'iso_639_1': 'en', 'name': 'English'}, {'iso...   \n",
       "2          0.0   101.0           [{'iso_639_1': 'en', 'name': 'English'}]   \n",
       "3   81452156.0   127.0           [{'iso_639_1': 'en', 'name': 'English'}]   \n",
       "4   76578911.0   106.0           [{'iso_639_1': 'en', 'name': 'English'}]   \n",
       "\n",
       "     status                                            tagline  \\\n",
       "0  Released                                                NaN   \n",
       "1  Released          Roll the dice and unleash the excitement!   \n",
       "2  Released  Still Yelling. Still Fighting. Still Ready for...   \n",
       "3  Released  Friends are the people who let you be yourself...   \n",
       "4  Released  Just When His World Is Back To Normal... He's ...   \n",
       "\n",
       "                         title  video vote_average vote_count  \n",
       "0                    Toy Story  False          7.7     5415.0  \n",
       "1                      Jumanji  False          6.9     2413.0  \n",
       "2             Grumpier Old Men  False          6.5       92.0  \n",
       "3            Waiting to Exhale  False          6.1       34.0  \n",
       "4  Father of the Bride Part II  False          5.7      173.0  \n",
       "\n",
       "[5 rows x 24 columns]"
      ]
     },
     "execution_count": 4,
     "metadata": {},
     "output_type": "execute_result"
    }
   ],
   "source": [
    "df = pd.DataFrame(df)\n",
    "df.head()"
   ]
  },
  {
   "cell_type": "code",
   "execution_count": 12,
   "id": "bd0486df-1671-4fba-9889-2f657648b514",
   "metadata": {
    "colab": {
     "base_uri": "https://localhost:8080/"
    },
    "id": "bd0486df-1671-4fba-9889-2f657648b514",
    "outputId": "a71697d0-12c6-4c6f-dbfb-01a0e2c0e98f"
   },
   "outputs": [
    {
     "data": {
      "text/plain": [
       "Index(['adult', 'belongs_to_collection', 'budget', 'genres', 'homepage', 'id',\n",
       "       'imdb_id', 'original_language', 'original_title', 'overview',\n",
       "       'popularity', 'poster_path', 'production_companies',\n",
       "       'production_countries', 'release_date', 'revenue', 'runtime',\n",
       "       'spoken_languages', 'status', 'tagline', 'title', 'video',\n",
       "       'vote_average', 'vote_count'],\n",
       "      dtype='object')"
      ]
     },
     "execution_count": 12,
     "metadata": {},
     "output_type": "execute_result"
    }
   ],
   "source": [
    "df.columns"
   ]
  },
  {
   "cell_type": "code",
   "execution_count": 13,
   "id": "f4d288a3-c377-4b9f-a70d-ddc457395afa",
   "metadata": {
    "colab": {
     "base_uri": "https://localhost:8080/"
    },
    "id": "f4d288a3-c377-4b9f-a70d-ddc457395afa",
    "outputId": "dddb50ca-ccd0-436b-f52e-38bc02c9adfc"
   },
   "outputs": [
    {
     "name": "stdout",
     "output_type": "stream",
     "text": [
      "<class 'pandas.core.frame.DataFrame'>\n",
      "RangeIndex: 45466 entries, 0 to 45465\n",
      "Data columns (total 24 columns):\n",
      " #   Column                 Non-Null Count  Dtype  \n",
      "---  ------                 --------------  -----  \n",
      " 0   adult                  45466 non-null  object \n",
      " 1   belongs_to_collection  4494 non-null   object \n",
      " 2   budget                 45466 non-null  object \n",
      " 3   genres                 45466 non-null  object \n",
      " 4   homepage               7782 non-null   object \n",
      " 5   id                     45466 non-null  object \n",
      " 6   imdb_id                45449 non-null  object \n",
      " 7   original_language      45455 non-null  object \n",
      " 8   original_title         45466 non-null  object \n",
      " 9   overview               44512 non-null  object \n",
      " 10  popularity             45461 non-null  object \n",
      " 11  poster_path            45080 non-null  object \n",
      " 12  production_companies   45463 non-null  object \n",
      " 13  production_countries   45463 non-null  object \n",
      " 14  release_date           45379 non-null  object \n",
      " 15  revenue                45460 non-null  float64\n",
      " 16  runtime                45203 non-null  float64\n",
      " 17  spoken_languages       45460 non-null  object \n",
      " 18  status                 45379 non-null  object \n",
      " 19  tagline                20412 non-null  object \n",
      " 20  title                  45460 non-null  object \n",
      " 21  video                  45460 non-null  object \n",
      " 22  vote_average           45460 non-null  float64\n",
      " 23  vote_count             45460 non-null  float64\n",
      "dtypes: float64(4), object(20)\n",
      "memory usage: 8.3+ MB\n"
     ]
    }
   ],
   "source": [
    "df.info()"
   ]
  },
  {
   "cell_type": "code",
   "execution_count": 14,
   "id": "86c8024b-8d11-4aa1-9412-4436ed3adccf",
   "metadata": {
    "colab": {
     "base_uri": "https://localhost:8080/",
     "height": 300
    },
    "id": "86c8024b-8d11-4aa1-9412-4436ed3adccf",
    "outputId": "141692a1-3339-4e85-ca80-fcb8ba9e42a5"
   },
   "outputs": [
    {
     "data": {
      "text/html": [
       "<div>\n",
       "<style scoped>\n",
       "    .dataframe tbody tr th:only-of-type {\n",
       "        vertical-align: middle;\n",
       "    }\n",
       "\n",
       "    .dataframe tbody tr th {\n",
       "        vertical-align: top;\n",
       "    }\n",
       "\n",
       "    .dataframe thead th {\n",
       "        text-align: right;\n",
       "    }\n",
       "</style>\n",
       "<table border=\"1\" class=\"dataframe\">\n",
       "  <thead>\n",
       "    <tr style=\"text-align: right;\">\n",
       "      <th></th>\n",
       "      <th>revenue</th>\n",
       "      <th>runtime</th>\n",
       "      <th>vote_average</th>\n",
       "      <th>vote_count</th>\n",
       "    </tr>\n",
       "  </thead>\n",
       "  <tbody>\n",
       "    <tr>\n",
       "      <th>count</th>\n",
       "      <td>4.546000e+04</td>\n",
       "      <td>45203.000000</td>\n",
       "      <td>45460.000000</td>\n",
       "      <td>45460.000000</td>\n",
       "    </tr>\n",
       "    <tr>\n",
       "      <th>mean</th>\n",
       "      <td>1.120935e+07</td>\n",
       "      <td>94.128199</td>\n",
       "      <td>5.618207</td>\n",
       "      <td>109.897338</td>\n",
       "    </tr>\n",
       "    <tr>\n",
       "      <th>std</th>\n",
       "      <td>6.433225e+07</td>\n",
       "      <td>38.407810</td>\n",
       "      <td>1.924216</td>\n",
       "      <td>491.310374</td>\n",
       "    </tr>\n",
       "    <tr>\n",
       "      <th>min</th>\n",
       "      <td>0.000000e+00</td>\n",
       "      <td>0.000000</td>\n",
       "      <td>0.000000</td>\n",
       "      <td>0.000000</td>\n",
       "    </tr>\n",
       "    <tr>\n",
       "      <th>25%</th>\n",
       "      <td>0.000000e+00</td>\n",
       "      <td>85.000000</td>\n",
       "      <td>5.000000</td>\n",
       "      <td>3.000000</td>\n",
       "    </tr>\n",
       "    <tr>\n",
       "      <th>50%</th>\n",
       "      <td>0.000000e+00</td>\n",
       "      <td>95.000000</td>\n",
       "      <td>6.000000</td>\n",
       "      <td>10.000000</td>\n",
       "    </tr>\n",
       "    <tr>\n",
       "      <th>75%</th>\n",
       "      <td>0.000000e+00</td>\n",
       "      <td>107.000000</td>\n",
       "      <td>6.800000</td>\n",
       "      <td>34.000000</td>\n",
       "    </tr>\n",
       "    <tr>\n",
       "      <th>max</th>\n",
       "      <td>2.787965e+09</td>\n",
       "      <td>1256.000000</td>\n",
       "      <td>10.000000</td>\n",
       "      <td>14075.000000</td>\n",
       "    </tr>\n",
       "  </tbody>\n",
       "</table>\n",
       "</div>"
      ],
      "text/plain": [
       "            revenue       runtime  vote_average    vote_count\n",
       "count  4.546000e+04  45203.000000  45460.000000  45460.000000\n",
       "mean   1.120935e+07     94.128199      5.618207    109.897338\n",
       "std    6.433225e+07     38.407810      1.924216    491.310374\n",
       "min    0.000000e+00      0.000000      0.000000      0.000000\n",
       "25%    0.000000e+00     85.000000      5.000000      3.000000\n",
       "50%    0.000000e+00     95.000000      6.000000     10.000000\n",
       "75%    0.000000e+00    107.000000      6.800000     34.000000\n",
       "max    2.787965e+09   1256.000000     10.000000  14075.000000"
      ]
     },
     "execution_count": 14,
     "metadata": {},
     "output_type": "execute_result"
    }
   ],
   "source": [
    "df.describe()"
   ]
  },
  {
   "cell_type": "code",
   "execution_count": 19,
   "id": "b26cb4f4-bbd1-43e1-a9fa-9cd452a1af44",
   "metadata": {},
   "outputs": [],
   "source": [
    "### DEVIED DATA FOR LESS TIME"
   ]
  },
  {
   "cell_type": "code",
   "execution_count": 5,
   "id": "17msejz0xJHa",
   "metadata": {
    "id": "17msejz0xJHa"
   },
   "outputs": [],
   "source": [
    "first_ten = df.head(10000).reset_index(drop=True)\n",
    "second_ten = df.iloc[10000:20000].reset_index(drop=True)\n",
    "third_ten = df.iloc[20000:30000].reset_index(drop=True)\n",
    "forth_ten = df.iloc[30000:40000].reset_index(drop=True)"
   ]
  },
  {
   "cell_type": "code",
   "execution_count": 20,
   "id": "3a5e075e-1fcc-4144-9d6d-a092d74fb068",
   "metadata": {
    "colab": {
     "base_uri": "https://localhost:8080/",
     "height": 371
    },
    "id": "3a5e075e-1fcc-4144-9d6d-a092d74fb068",
    "outputId": "b32a78e2-4ba5-433f-8ea1-72961b2baa71"
   },
   "outputs": [
    {
     "data": {
      "image/png": "[encoded data removed]",
      "text/plain": [
       "<Figure size 1500x500 with 1 Axes>"
      ]
     },
     "metadata": {},
     "output_type": "display_data"
    }
   ],
   "source": [
    "plt.figure(figsize=(15,5))\n",
    "plt.style.use('ggplot')\n",
    "df['vote_average'].value_counts().sort_index(ascending=False).plot(kind='bar',title='Average Star of all movies star')\n",
    "plt.xlabel('Rating Out of 10')\n",
    "plt.ylabel('Total Movie')\n",
    "plt.show()"
   ]
  },
  {
   "cell_type": "code",
   "execution_count": 6,
   "id": "348a55e8-d40c-48fe-a365-96ca9deeb636",
   "metadata": {},
   "outputs": [
    {
     "data": {
      "text/plain": [
       "0    [{'id': 16, 'name': 'Animation'}, {'id': 35, '...\n",
       "1    [{'id': 12, 'name': 'Adventure'}, {'id': 14, '...\n",
       "Name: genres, dtype: object"
      ]
     },
     "execution_count": 6,
     "metadata": {},
     "output_type": "execute_result"
    }
   ],
   "source": [
    "df['genres'].head(2)\n",
    "## Make use full"
   ]
  },
  {
   "cell_type": "code",
   "execution_count": 7,
   "id": "55e91fa6-415b-42f6-93e5-1bc1477f6c8b",
   "metadata": {
    "id": "55e91fa6-415b-42f6-93e5-1bc1477f6c8b"
   },
   "outputs": [],
   "source": [
    "## FROM genres JUST GET NAME \n",
    "\n",
    "def extract_genres(df, column_name):\n",
    "    def get_genre_names(genres_str):\n",
    "        genres_list = ast.literal_eval(genres_str)\n",
    "        return [item['name'] for item in genres_list]\n",
    "\n",
    "    df['genre_names'] = df[column_name].apply(get_genre_names)\n",
    "    return df"
   ]
  },
  {
   "cell_type": "code",
   "execution_count": 8,
   "id": "fH_P3tR1znxl",
   "metadata": {
    "id": "fH_P3tR1znxl"
   },
   "outputs": [],
   "source": [
    "first_ten = extract_genres(first_ten, 'genres')\n",
    "second_ten = extract_genres(second_ten, 'genres')\n",
    "third_ten = extract_genres(third_ten, 'genres')\n",
    "forth_ten = extract_genres(forth_ten, 'genres')"
   ]
  },
  {
   "cell_type": "code",
   "execution_count": 9,
   "id": "f24f1e75-1b51-4aee-b8ec-c67b28f581ca",
   "metadata": {
    "id": "f24f1e75-1b51-4aee-b8ec-c67b28f581ca"
   },
   "outputs": [],
   "source": [
    "first_ten['text'] = first_ten['title'] + \" \" + first_ten['overview'] + \" \" + first_ten['genre_names'].apply(lambda x: ' '.join(x))\n",
    "second_ten['text'] = second_ten['title'] + \" \" + second_ten['overview'] + \" \" + second_ten['genre_names'].apply(lambda x: ' '.join(x))\n",
    "third_ten['text'] = third_ten['title'] + \" \" + third_ten['overview'] + \" \" + third_ten['genre_names'].apply(lambda x: ' '.join(x))\n",
    "forth_ten['text'] = forth_ten['title'] + \" \" + forth_ten['overview'] + \" \" + forth_ten['genre_names'].apply(lambda x: ' '.join(x))"
   ]
  },
  {
   "cell_type": "code",
   "execution_count": 10,
   "id": "cb78f85d-bef0-4f3d-a417-e4bf832d849a",
   "metadata": {
    "id": "cb78f85d-bef0-4f3d-a417-e4bf832d849a"
   },
   "outputs": [],
   "source": [
    "### REMOVE EXTRAE WORDS"
   ]
  },
  {
   "cell_type": "code",
   "execution_count": 11,
   "id": "8f855d21-cc7e-430a-adb5-28aabce2021d",
   "metadata": {
    "id": "8f855d21-cc7e-430a-adb5-28aabce2021d"
   },
   "outputs": [],
   "source": [
    "first_ten['text'] = first_ten['text'].str.lower().replace(r'[^a-zA-Z0-9]','').replace(r'\\n',' ',regex=True)\n",
    "second_ten['text'] = second_ten['text'].str.lower().replace(r'[^a-zA-Z0-9]','').replace(r'\\n',' ',regex=True)\n",
    "third_ten['text'] = third_ten['text'].str.lower().replace(r'[^a-zA-Z0-9]','').replace(r'\\n',' ',regex=True)\n",
    "forth_ten['text'] = forth_ten['text'].str.lower().replace(r'[^a-zA-Z0-9]','').replace(r'\\n',' ',regex=True)"
   ]
  },
  {
   "cell_type": "code",
   "execution_count": 12,
   "id": "ec89474f-d1b9-47a3-8097-ab199534f904",
   "metadata": {
    "id": "ec89474f-d1b9-47a3-8097-ab199534f904"
   },
   "outputs": [],
   "source": [
    "ps = PorterStemmer()\n",
    "steamin =[]\n",
    "def stem(content):\n",
    "    token = nltk.word_tokenize(content)\n",
    "    steamin = [ps.stem(word) for word in token]\n",
    "    return \" \".join(steamin)"
   ]
  },
  {
   "cell_type": "code",
   "execution_count": 13,
   "id": "c745847f-00ec-4375-a444-ab718b3a6a91",
   "metadata": {
    "id": "c745847f-00ec-4375-a444-ab718b3a6a91"
   },
   "outputs": [],
   "source": [
    "first_ten['text'] = first_ten['text'].apply(lambda x: stem(str(x)))\n",
    "second_ten['text'] = second_ten['text'].apply(lambda x: stem(str(x)))\n",
    "third_ten['text'] = third_ten['text'].apply(lambda x: stem(str(x)))\n",
    "forth_ten['text'] = forth_ten['text'].apply(lambda x: stem(str(x)))"
   ]
  },
  {
   "cell_type": "code",
   "execution_count": 14,
   "id": "7546973b-4301-4659-bc32-03a3b28fce49",
   "metadata": {
    "colab": {
     "base_uri": "https://localhost:8080/",
     "height": 458
    },
    "id": "7546973b-4301-4659-bc32-03a3b28fce49",
    "outputId": "c7090229-c062-47c8-8c89-a0ed4a5a2986"
   },
   "outputs": [
    {
     "data": {
      "text/plain": [
       "0    toy stori led by woodi , andi 's toy live happ...\n",
       "1    jumanji when sibl judi and peter discov an enc...\n",
       "2    grumpier old men a famili wed reignit the anci...\n",
       "3    wait to exhal cheat on , mistreat and step on ...\n",
       "4    father of the bride part ii just when georg ba...\n",
       "Name: text, dtype: object"
      ]
     },
     "execution_count": 14,
     "metadata": {},
     "output_type": "execute_result"
    }
   ],
   "source": [
    "first_ten['text'].head()"
   ]
  },
  {
   "cell_type": "markdown",
   "id": "1760f819-21d6-4cc3-9989-3b33af2e3e3c",
   "metadata": {
    "id": "8afa8fd9-9ee9-42b8-a91a-d59e49457b27"
   },
   "source": [
    "### Convert Data into Vector "
   ]
  },
  {
   "cell_type": "code",
   "execution_count": 15,
   "id": "9dbdf75a-0894-437a-9f9d-5f0b2f75d0b6",
   "metadata": {
    "id": "9dbdf75a-0894-437a-9f9d-5f0b2f75d0b6"
   },
   "outputs": [],
   "source": [
    "vector = TfidfVectorizer(stop_words='english')\n",
    "matrix1 = vector.fit_transform(first_ten['text'])\n",
    "matrix2 = vector.fit_transform(second_ten['text'])\n",
    "matrix3= vector.fit_transform(third_ten['text'])\n",
    "matrix4 = vector.fit_transform(forth_ten['text'])"
   ]
  },
  {
   "cell_type": "code",
   "execution_count": 16,
   "id": "H_MlmmgT1blY",
   "metadata": {
    "id": "H_MlmmgT1blY"
   },
   "outputs": [],
   "source": [
    "### cosine_similarity IS MACHINE LEARNING ALGO THATS FIND SIMLARLTY"
   ]
  },
  {
   "cell_type": "code",
   "execution_count": 17,
   "id": "bcc249ea-88fd-4799-aa59-301bda4050d2",
   "metadata": {
    "id": "bcc249ea-88fd-4799-aa59-301bda4050d2"
   },
   "outputs": [],
   "source": [
    "simlarlity = cosine_similarity(matrix1,matrix1)\n",
    "simlarlity1 = cosine_similarity(matrix2,matrix2)\n",
    "simlarlity2 = cosine_similarity(matrix3,matrix3)\n",
    "simlarlity4 = cosine_similarity(matrix4,matrix4)"
   ]
  },
  {
   "cell_type": "code",
   "execution_count": 20,
   "id": "lf84ZdxK9EZj",
   "metadata": {
    "colab": {
     "base_uri": "https://localhost:8080/"
    },
    "id": "lf84ZdxK9EZj",
    "outputId": "9c93c0eb-6a62-4e7b-8c72-4f899636d1a0"
   },
   "outputs": [],
   "source": [
    "# Combine datasets for the indices and text\n",
    "combined_data = pd.concat([first_ten, second_ten, third_ten, forth_ten], ignore_index=True)\n",
    "indices = pd.Series(combined_data.index, index=combined_data['title']).drop_duplicates()\n",
    "with open('indices.pkl', 'wb') as f:\n",
    "    pickle.dump(indices, f)"
   ]
  },
  {
   "cell_type": "code",
   "execution_count": 38,
   "id": "e6585e82-5ceb-4c22-a632-2d268ac36f82",
   "metadata": {},
   "outputs": [],
   "source": [
    "\n",
    "# Normalize and average similarity matrices\n",
    "def normalize_similarity(similarity_matrix):\n",
    "    min_sim = np.min(similarity_matrix)\n",
    "    max_sim = np.max(similarity_matrix)\n",
    "    return (similarity_matrix - min_sim) / (max_sim - min_sim)\n",
    "\n",
    "# Normalize each similarity matrix\n",
    "similarity = normalize_similarity(simlarlity)\n",
    "similarity1 = normalize_similarity(simlarlity1)\n",
    "similarity2 = normalize_similarity(simlarlity2)\n",
    "similarity4 = normalize_similarity(simlarlity4)\n",
    "\n",
    "# Average the normalized similarities\n",
    "average_similarity = (similarity + similarity1 + similarity2 + similarity4) / 4"
   ]
  },
  {
   "cell_type": "code",
   "execution_count": 39,
   "id": "975b4883-81b1-4148-a94a-58ff8c401dbd",
   "metadata": {},
   "outputs": [],
   "source": [
    "### RECOMENDE FUNCTION "
   ]
  },
  {
   "cell_type": "code",
   "execution_count": 41,
   "id": "cb483577-3049-43dc-97f7-5090c13a768d",
   "metadata": {},
   "outputs": [
    {
     "name": "stdout",
     "output_type": "stream",
     "text": [
      "                               title  \\\n",
      "167                          Hackers   \n",
      "6515                        Commando   \n",
      "9372                   The Animatrix   \n",
      "9377                           11:14   \n",
      "3256                Destination Moon   \n",
      "5788                    Best Friends   \n",
      "2761                           Tommy   \n",
      "6221             The Matrix Reloaded   \n",
      "1931  The Computer Wore Tennis Shoes   \n",
      "5396                          S1m0ne   \n",
      "\n",
      "                                               overview  \\\n",
      "167   Along with his new friends, a teenager who was...   \n",
      "6515  John Matrix, the former leader of a special co...   \n",
      "9372  Straight from the creators of the groundbreaki...   \n",
      "9377  Tells the seemingly random yet vitally connect...   \n",
      "3256  Postulates the first manned trip to the moon, ...   \n",
      "5788  When a professional couple who have lived &amp...   \n",
      "2761  A psychosomatically deaf, dumb and blind boy b...   \n",
      "6221  Six months after the events depicted in The Ma...   \n",
      "1931  Some college students manage to persuade the t...   \n",
      "5396  The career of a disillusioned producer, who is...   \n",
      "\n",
      "                                         genre_names  \n",
      "167                 [Action, Crime, Thriller, Drama]  \n",
      "6515                   [Action, Adventure, Thriller]  \n",
      "9372                    [Animation, Science Fiction]  \n",
      "9377                        [Crime, Drama, Thriller]  \n",
      "3256                               [Science Fiction]  \n",
      "5788                               [Comedy, Romance]  \n",
      "2761                                  [Drama, Music]  \n",
      "6221  [Adventure, Action, Thriller, Science Fiction]  \n",
      "1931                                [Comedy, Family]  \n",
      "5396                [Comedy, Drama, Science Fiction]  \n"
     ]
    }
   ],
   "source": [
    "# Function to recommend movies based on combined similarity\n",
    "def recommend_from_combined_similarity(title, all_data, indices, average_similarity):\n",
    "    if title not in indices:\n",
    "        return \"Movie not found in the dataset.\"\n",
    "\n",
    "    idx = indices[title]\n",
    "    sim_scores = list(enumerate(average_similarity[idx]))\n",
    "    sim_scores = sorted(sim_scores, key=lambda x: x[1], reverse=True)\n",
    "    sim_scores = sim_scores[1:11]  # Get top 10 recommendations\n",
    "    movie_indices = [i[0] for i in sim_scores]\n",
    "    return all_data[['title', 'overview', 'genre_names']].iloc[movie_indices]\n",
    "\n",
    "# Example usage\n",
    "recommendations = recommend_from_combined_similarity('The Matrix', combined_data, indices, average_similarity)\n",
    "print(recommendations)"
   ]
  },
  {
   "cell_type": "code",
   "execution_count": 43,
   "id": "LGF-V0d89HT-",
   "metadata": {
    "id": "LGF-V0d89HT-"
   },
   "outputs": [],
   "source": [
    "import pickle\n",
    "\n",
    "# Save the average similarity matrix\n",
    "with open('average_similarity.pkl', 'wb') as f:\n",
    "    pickle.dump(average_similarity, f)\n",
    "\n",
    "# Save the vectorizer\n",
    "with open('tfidf_vectorizer.pkl', 'wb') as f:\n",
    "    pickle.dump(vector, f)\n",
    "\n",
    "# Save the combined data DataFrame\n",
    "combined_data.to_pickle('combined_data.pkl')\n"
   ]
  },
  {
   "cell_type": "code",
   "execution_count": 50,
   "id": "sS9x8iG89oRH",
   "metadata": {
    "id": "sS9x8iG89oRH"
   },
   "outputs": [],
   "source": [
    "title = recommendations['title'].reset_index(drop=True)\n",
    "overview =  recommendations['overview'].reset_index(drop=True)\n",
    "genre_names =  recommendations['genre_names'].reset_index(drop=True)"
   ]
  },
  {
   "cell_type": "code",
   "execution_count": 54,
   "id": "806896df-f44e-4fd3-8786-927fe61007d2",
   "metadata": {},
   "outputs": [
    {
     "name": "stdout",
     "output_type": "stream",
     "text": [
      "Title : Hackers Overview : Along with his new friends, a teenager who was arrested by the US Secret Service and banned from using a computer for writing a computer virus discovers a plot by a nefarious hacker, but they must use their computer skills to find the evidence while being pursued by the Secret Service and the evil computer genius behind the virus. generues : ['Action', 'Crime', 'Thriller', 'Drama']\n",
      "Title : Commando Overview : John Matrix, the former leader of a special commando strike force that always got the toughest jobs done, is forced back into action when his young daughter is kidnapped. To find her, Matrix has to fight his way through an array of punks, killers, one of his former commandos, and a fully equipped private army. With the help of a feisty stewardess and an old friend, Matrix has only a few hours to overcome his greatest challenge: finding his daughter before she's killed. generues : ['Action', 'Adventure', 'Thriller']\n",
      "Title : The Animatrix Overview : Straight from the creators of the groundbreaking Matrix trilogy, this collection of short animated films from the world's leading anime directors fuses computer graphics and Japanese anime to provide the background of the Matrix universe and the conflict between man and machines. The shorts include Final Flight of the Osiris, The Second Renaissance, Kid's Story, Program, World Record, Beyond, A Detective Story and Matriculated. generues : ['Animation', 'Science Fiction']\n",
      "Title : 11:14 Overview : Tells the seemingly random yet vitally connected story of a set of incidents that all converge one evening at 11:14pm. The story follows the chain of events of five different characters and five different storylines that all converge to tell the story of murder and deceit. generues : ['Crime', 'Drama', 'Thriller']\n",
      "Title : Destination Moon Overview : Postulates the first manned trip to the moon, happening in the (then) near future, and being funded by a consortium of private backers. Assorted difficulties occur and must be overcome in-flight. Attempted to be realistic, with Robert A. Heinlein providing advice. generues : ['Science Fiction']\n",
      "Title : Best Friends Overview : When a professional couple who have lived &amp; worked together for many years finally decide to marry, their sudden betrothal causes many unexpectedly funny and awkward difficulties. They soon find that being married is often quite different from being \"best friends.\" generues : ['Comedy', 'Romance']\n",
      "Title : Tommy Overview : A psychosomatically deaf, dumb and blind boy becomes a master pinball player and the object of a religious cult. generues : ['Drama', 'Music']\n",
      "Title : The Matrix Reloaded Overview : Six months after the events depicted in The Matrix, Neo has proved to be a good omen for the free humans, as more and more humans are being freed from the matrix and brought to Zion, the one and only stronghold of the Resistance.  Neo himself has discovered his superpowers including super speed, ability to see the codes of the things inside the matrix and a certain degree of pre-cognition. But a nasty piece of news hits the human resistance: 250,000 machine sentinels are digging to Zion and would reach them in 72 hours. As Zion prepares for the ultimate war, Neo, Morpheus and Trinity are advised by the Oracle to find the Keymaker who would help them reach the Source.  Meanwhile Neo's recurrent dreams depicting Trinity's death have got him worried and as if it was not enough, Agent Smith has somehow escaped deletion, has become more powerful than before and has fixed Neo as his next target. generues : ['Adventure', 'Action', 'Thriller', 'Science Fiction']\n",
      "Title : The Computer Wore Tennis Shoes Overview : Some college students manage to persuade the town's big businessman, A. J. Arno, to donate a computer to their college. When the problem- student, Dexter Riley, tries to fix the computer, he gets an electric shock and his brain turns to a computer; now he remembers everything he reads. Unfortunately, he also remembers information which was in the computer's memory, like Arno's illegal businesses.. generues : ['Comedy', 'Family']\n",
      "Title : S1m0ne Overview : The career of a disillusioned producer, who is desperate for a hit, is endangered when his star walks off the film set. Forced to think fast, the producer decides to digitally create an actress \"Simone\" to sub for the star — the first totally believable synthetic actress. generues : ['Comedy', 'Drama', 'Science Fiction']\n"
     ]
    }
   ],
   "source": [
    "for i in range(0,10):\n",
    "    print(f'Title : {title[i]} Overview : {overview[i]} generues : {genre_names[i]}')"
   ]
  },
  {
   "cell_type": "code",
   "execution_count": null,
   "id": "2f5b5ea0-30df-4132-b434-d2d95a6868d5",
   "metadata": {},
   "outputs": [],
   "source": []
  }
 ],
 "metadata": {
  "accelerator": "GPU",
  "colab": {
   "gpuType": "T4",
   "provenance": []
  },
  "kernelspec": {
   "display_name": "Python 3 (ipykernel)",
   "language": "python",
   "name": "python3"
  },
  "language_info": {
   "codemirror_mode": {
    "name": "ipython",
    "version": 3
   },
   "file_extension": ".py",
   "mimetype": "text/x-python",
   "name": "python",
   "nbconvert_exporter": "python",
   "pygments_lexer": "ipython3",
   "version": "3.11.0"
  }
 },
 "nbformat": 4,
 "nbformat_minor": 5
}
